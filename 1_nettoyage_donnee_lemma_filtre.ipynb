{
 "cells": [
  {
   "cell_type": "code",
   "execution_count": 2,
   "id": "93ab6052",
   "metadata": {},
   "outputs": [
    {
     "name": "stdout",
     "output_type": "stream",
     "text": [
      "Collecting spacy\n",
      "  Using cached spacy-3.3.0-cp39-cp39-manylinux_2_17_x86_64.manylinux2014_x86_64.whl (6.3 MB)\n",
      "Collecting murmurhash<1.1.0,>=0.28.0\n",
      "  Using cached murmurhash-1.0.7-cp39-cp39-manylinux_2_5_x86_64.manylinux1_x86_64.manylinux_2_17_x86_64.manylinux2014_x86_64.whl (21 kB)\n",
      "Collecting pydantic!=1.8,!=1.8.1,<1.9.0,>=1.7.4\n",
      "  Using cached pydantic-1.8.2-cp39-cp39-manylinux2014_x86_64.whl (11.3 MB)\n",
      "Requirement already satisfied: requests<3.0.0,>=2.13.0 in /opt/conda/lib/python3.9/site-packages (from spacy) (2.27.1)\n",
      "Collecting catalogue<2.1.0,>=2.0.6\n",
      "  Using cached catalogue-2.0.7-py3-none-any.whl (17 kB)\n",
      "Collecting srsly<3.0.0,>=2.4.3\n",
      "  Using cached srsly-2.4.3-cp39-cp39-manylinux_2_17_x86_64.manylinux2014_x86_64.whl (457 kB)\n",
      "Requirement already satisfied: packaging>=20.0 in /opt/conda/lib/python3.9/site-packages (from spacy) (21.3)\n",
      "Requirement already satisfied: jinja2 in /opt/conda/lib/python3.9/site-packages (from spacy) (3.0.3)\n",
      "Collecting blis<0.8.0,>=0.4.0\n",
      "  Using cached blis-0.7.7-cp39-cp39-manylinux_2_17_x86_64.manylinux2014_x86_64.whl (9.9 MB)\n",
      "Collecting pathy>=0.3.5\n",
      "  Using cached pathy-0.6.1-py3-none-any.whl (42 kB)\n",
      "Requirement already satisfied: numpy>=1.15.0 in /opt/conda/lib/python3.9/site-packages (from spacy) (1.21.5)\n",
      "Collecting wasabi<1.1.0,>=0.9.1\n",
      "  Using cached wasabi-0.9.1-py3-none-any.whl (26 kB)\n",
      "Collecting spacy-legacy<3.1.0,>=3.0.9\n",
      "  Using cached spacy_legacy-3.0.9-py2.py3-none-any.whl (20 kB)\n",
      "Collecting thinc<8.1.0,>=8.0.14\n",
      "  Downloading thinc-8.0.17-cp39-cp39-manylinux_2_17_x86_64.manylinux2014_x86_64.whl (668 kB)\n",
      "     |████████████████████████████████| 668 kB 9.6 MB/s            \n",
      "\u001b[?25hCollecting langcodes<4.0.0,>=3.2.0\n",
      "  Using cached langcodes-3.3.0-py3-none-any.whl (181 kB)\n",
      "Collecting typer<0.5.0,>=0.3.0\n",
      "  Using cached typer-0.4.1-py3-none-any.whl (27 kB)\n",
      "Collecting spacy-loggers<2.0.0,>=1.0.0\n",
      "  Using cached spacy_loggers-1.0.2-py3-none-any.whl (7.2 kB)\n",
      "Requirement already satisfied: tqdm<5.0.0,>=4.38.0 in /opt/conda/lib/python3.9/site-packages (from spacy) (4.62.3)\n",
      "Collecting preshed<3.1.0,>=3.0.2\n",
      "  Using cached preshed-3.0.6-cp39-cp39-manylinux_2_5_x86_64.manylinux1_x86_64.manylinux_2_17_x86_64.manylinux2014_x86_64.whl (128 kB)\n",
      "Requirement already satisfied: setuptools in /opt/conda/lib/python3.9/site-packages (from spacy) (59.8.0)\n",
      "Collecting cymem<2.1.0,>=2.0.2\n",
      "  Using cached cymem-2.0.6-cp39-cp39-manylinux_2_17_x86_64.manylinux2014_x86_64.whl (35 kB)\n",
      "Requirement already satisfied: pyparsing!=3.0.5,>=2.0.2 in /opt/conda/lib/python3.9/site-packages (from packaging>=20.0->spacy) (3.0.7)\n",
      "Collecting smart-open<6.0.0,>=5.0.0\n",
      "  Using cached smart_open-5.2.1-py3-none-any.whl (58 kB)\n",
      "Requirement already satisfied: typing-extensions>=3.7.4.3 in /opt/conda/lib/python3.9/site-packages (from pydantic!=1.8,!=1.8.1,<1.9.0,>=1.7.4->spacy) (4.0.1)\n",
      "Requirement already satisfied: charset-normalizer~=2.0.0 in /opt/conda/lib/python3.9/site-packages (from requests<3.0.0,>=2.13.0->spacy) (2.0.10)\n",
      "Requirement already satisfied: idna<4,>=2.5 in /opt/conda/lib/python3.9/site-packages (from requests<3.0.0,>=2.13.0->spacy) (3.3)\n",
      "Requirement already satisfied: urllib3<1.27,>=1.21.1 in /opt/conda/lib/python3.9/site-packages (from requests<3.0.0,>=2.13.0->spacy) (1.26.8)\n",
      "Requirement already satisfied: certifi>=2017.4.17 in /opt/conda/lib/python3.9/site-packages (from requests<3.0.0,>=2.13.0->spacy) (2021.10.8)\n",
      "Requirement already satisfied: click<9.0.0,>=7.1.1 in /opt/conda/lib/python3.9/site-packages (from typer<0.5.0,>=0.3.0->spacy) (8.0.3)\n",
      "Requirement already satisfied: MarkupSafe>=2.0 in /opt/conda/lib/python3.9/site-packages (from jinja2->spacy) (2.0.1)\n",
      "Installing collected packages: murmurhash, cymem, catalogue, wasabi, typer, srsly, smart-open, pydantic, preshed, blis, thinc, spacy-loggers, spacy-legacy, pathy, langcodes, spacy\n",
      "Successfully installed blis-0.7.7 catalogue-2.0.7 cymem-2.0.6 langcodes-3.3.0 murmurhash-1.0.7 pathy-0.6.1 preshed-3.0.6 pydantic-1.8.2 smart-open-5.2.1 spacy-3.3.0 spacy-legacy-3.0.9 spacy-loggers-1.0.2 srsly-2.4.3 thinc-8.0.17 typer-0.4.1 wasabi-0.9.1\n"
     ]
    }
   ],
   "source": [
    "!pip install spacy"
   ]
  },
  {
   "cell_type": "code",
   "execution_count": 3,
   "id": "86601b0b",
   "metadata": {},
   "outputs": [
    {
     "name": "stdout",
     "output_type": "stream",
     "text": [
      "\u001b[38;5;2m✔ Download and installation successful\u001b[0m\n",
      "You can now load the package via spacy.load('fr_core_news_md')\n"
     ]
    }
   ],
   "source": [
    "!python -m spacy download fr_core_news_md -q"
   ]
  },
  {
   "cell_type": "code",
   "execution_count": 4,
   "id": "92c6dcaf",
   "metadata": {},
   "outputs": [
    {
     "name": "stdout",
     "output_type": "stream",
     "text": [
      "Collecting Unidecode\n",
      "  Using cached Unidecode-1.3.4-py3-none-any.whl (235 kB)\n",
      "Installing collected packages: Unidecode\n",
      "Successfully installed Unidecode-1.3.4\n"
     ]
    }
   ],
   "source": [
    "!pip install Unidecode"
   ]
  },
  {
   "cell_type": "code",
   "execution_count": 5,
   "id": "d6a1f608",
   "metadata": {},
   "outputs": [],
   "source": [
    "%matplotlib inline\n",
    "import pandas as pd\n",
    "import numpy as np\n",
    "import matplotlib.pyplot as plt\n",
    "import seaborn as sns\n",
    "import fr_core_news_md\n",
    "import pickle as pk"
   ]
  },
  {
   "cell_type": "markdown",
   "id": "18c729a3",
   "metadata": {},
   "source": [
    "REVIEWS LOOX"
   ]
  },
  {
   "cell_type": "code",
   "execution_count": 6,
   "id": "e44a8654",
   "metadata": {},
   "outputs": [],
   "source": [
    "df_reviews = pd.read_csv('reviews_12052022.csv')"
   ]
  },
  {
   "cell_type": "code",
   "execution_count": 7,
   "id": "90c47a5e",
   "metadata": {},
   "outputs": [
    {
     "data": {
      "text/plain": [
       "Index(['id', 'status', 'rating', 'email', 'img', 'nickname', 'review', 'date',\n",
       "       'productId', 'handle', 'variant', 'verified_purchase', 'orderId',\n",
       "       'reply', 'replied_at'],\n",
       "      dtype='object')"
      ]
     },
     "execution_count": 7,
     "metadata": {},
     "output_type": "execute_result"
    }
   ],
   "source": [
    "df_reviews.columns"
   ]
  },
  {
   "cell_type": "code",
   "execution_count": null,
   "id": "6b3efce7-01b8-423e-a41d-b83975cfc763",
   "metadata": {},
   "outputs": [],
   "source": [
    "# Données cachés pour des raisons de confidentialités"
   ]
  },
  {
   "cell_type": "code",
   "execution_count": 8,
   "id": "f69b10ca",
   "metadata": {},
   "outputs": [
    {
     "data": {
      "text/html": [
       "<div>\n",
       "<style scoped>\n",
       "    .dataframe tbody tr th:only-of-type {\n",
       "        vertical-align: middle;\n",
       "    }\n",
       "\n",
       "    .dataframe tbody tr th {\n",
       "        vertical-align: top;\n",
       "    }\n",
       "\n",
       "    .dataframe thead th {\n",
       "        text-align: right;\n",
       "    }\n",
       "</style>\n",
       "<table border=\"1\" class=\"dataframe\">\n",
       "  <thead>\n",
       "    <tr style=\"text-align: right;\">\n",
       "      <th></th>\n",
       "      <th>id</th>\n",
       "      <th>status</th>\n",
       "      <th>rating</th>\n",
       "      <th>email</th>\n",
       "      <th>img</th>\n",
       "      <th>nickname</th>\n",
       "      <th>review</th>\n",
       "      <th>date</th>\n",
       "      <th>productId</th>\n",
       "      <th>handle</th>\n",
       "      <th>variant</th>\n",
       "      <th>verified_purchase</th>\n",
       "      <th>orderId</th>\n",
       "      <th>reply</th>\n",
       "      <th>replied_at</th>\n",
       "    </tr>\n",
       "  </thead>\n",
       "  <tbody>\n",
       "  </tbody>\n",
       "</table>\n",
       "</div>"
      ],
      "text/plain": [
       "Empty DataFrame\n",
       "Columns: [id, status, rating, email, img, nickname, review, date, productId, handle, variant, verified_purchase, orderId, reply, replied_at]\n",
       "Index: []"
      ]
     },
     "execution_count": 8,
     "metadata": {},
     "output_type": "execute_result"
    }
   ],
   "source": [
    "df_reviews.head(0)"
   ]
  },
  {
   "cell_type": "markdown",
   "id": "e7d39c76",
   "metadata": {},
   "source": [
    "DONNEES D'ENTRAINEMENT"
   ]
  },
  {
   "cell_type": "code",
   "execution_count": 8,
   "id": "c7710192",
   "metadata": {},
   "outputs": [],
   "source": [
    "# Suppression de toutes les colonnes sauf rating ,reviews et date"
   ]
  },
  {
   "cell_type": "code",
   "execution_count": 9,
   "id": "c7c20a73",
   "metadata": {},
   "outputs": [],
   "source": [
    "df_reviews = df_reviews[[\"rating\", \"review\", \"date\"]].copy()"
   ]
  },
  {
   "cell_type": "code",
   "execution_count": 10,
   "id": "bb37cec5",
   "metadata": {},
   "outputs": [
    {
     "data": {
      "text/html": [
       "<div>\n",
       "<style scoped>\n",
       "    .dataframe tbody tr th:only-of-type {\n",
       "        vertical-align: middle;\n",
       "    }\n",
       "\n",
       "    .dataframe tbody tr th {\n",
       "        vertical-align: top;\n",
       "    }\n",
       "\n",
       "    .dataframe thead th {\n",
       "        text-align: right;\n",
       "    }\n",
       "</style>\n",
       "<table border=\"1\" class=\"dataframe\">\n",
       "  <thead>\n",
       "    <tr style=\"text-align: right;\">\n",
       "      <th></th>\n",
       "      <th>rating</th>\n",
       "      <th>review</th>\n",
       "      <th>date</th>\n",
       "    </tr>\n",
       "  </thead>\n",
       "  <tbody>\n",
       "  </tbody>\n",
       "</table>\n",
       "</div>"
      ],
      "text/plain": [
       "Empty DataFrame\n",
       "Columns: [rating, review, date]\n",
       "Index: []"
      ]
     },
     "execution_count": 10,
     "metadata": {},
     "output_type": "execute_result"
    }
   ],
   "source": [
    "df_reviews.head(0)"
   ]
  },
  {
   "cell_type": "markdown",
   "id": "28f04e70",
   "metadata": {},
   "source": [
    "PREPROCESSING"
   ]
  },
  {
   "cell_type": "code",
   "execution_count": 11,
   "id": "1a7979e9",
   "metadata": {},
   "outputs": [],
   "source": [
    "# Initialisation en français\n",
    "nlp = fr_core_news_md.load()"
   ]
  },
  {
   "cell_type": "code",
   "execution_count": 12,
   "id": "9686db1f",
   "metadata": {},
   "outputs": [],
   "source": [
    "### Calcul des lemmes et pos via spacy"
   ]
  },
  {
   "cell_type": "code",
   "execution_count": 13,
   "id": "96df0cbe",
   "metadata": {},
   "outputs": [],
   "source": [
    "df_reviews[\"token_spacy\"] = df_reviews.review.map(lambda s: nlp(s))\n",
    "\n",
    "#df.tokens\n",
    "tokens = df_reviews.token_spacy.tolist()\n",
    "tokens = [(i.lemma_, i.pos_, i.text) for s in tokens for i in s]\n",
    "tokens = pd.DataFrame(tokens, columns = ['rating','review','date'])\n",
    "#tokens = tokens.groupby('lemma').agg(list)"
   ]
  },
  {
   "cell_type": "code",
   "execution_count": 14,
   "id": "429ba48f-6629-4be5-9f7b-dfd3e56e9435",
   "metadata": {},
   "outputs": [
    {
     "data": {
      "text/html": [
       "<div>\n",
       "<style scoped>\n",
       "    .dataframe tbody tr th:only-of-type {\n",
       "        vertical-align: middle;\n",
       "    }\n",
       "\n",
       "    .dataframe tbody tr th {\n",
       "        vertical-align: top;\n",
       "    }\n",
       "\n",
       "    .dataframe thead th {\n",
       "        text-align: right;\n",
       "    }\n",
       "</style>\n",
       "<table border=\"1\" class=\"dataframe\">\n",
       "  <thead>\n",
       "    <tr style=\"text-align: right;\">\n",
       "      <th></th>\n",
       "      <th>rating</th>\n",
       "      <th>review</th>\n",
       "      <th>date</th>\n",
       "      <th>token_spacy</th>\n",
       "    </tr>\n",
       "  </thead>\n",
       "  <tbody>\n",
       "  </tbody>\n",
       "</table>\n",
       "</div>"
      ],
      "text/plain": [
       "Empty DataFrame\n",
       "Columns: [rating, review, date, token_spacy]\n",
       "Index: []"
      ]
     },
     "execution_count": 14,
     "metadata": {},
     "output_type": "execute_result"
    }
   ],
   "source": [
    "df_reviews.head(0)"
   ]
  },
  {
   "cell_type": "code",
   "execution_count": 15,
   "id": "603cf3f5-9bbd-45b1-a815-03c2b904b54e",
   "metadata": {},
   "outputs": [],
   "source": [
    "#df_reviews.token_spacy[6]"
   ]
  },
  {
   "cell_type": "code",
   "execution_count": 16,
   "id": "9d4ffaa6",
   "metadata": {},
   "outputs": [
    {
     "name": "stdout",
     "output_type": "stream",
     "text": [
      "j’ PRON J’\n",
      "avoir AUX ai\n",
      "pas ADV pas\n",
      "l’ DET l’\n",
      "habitude NOUN habitude\n",
      "de ADP de\n",
      "porter VERB porter\n",
      "ce DET ce\n",
      "type NOUN type\n",
      "de ADP de\n",
      "culotte NOUN culotte\n",
      "mais CCONJ mais\n",
      "super VERB super\n",
      "à ADP à\n",
      "l’ DET l’\n",
      "aise NOUN aise\n",
      "dedans PROPN dedans\n",
      ", PUNCT ,\n",
      "merci NOUN merci\n",
      ". PUNCT .\n"
     ]
    }
   ],
   "source": [
    "for tok in df_reviews.token_spacy.iloc[10]:\n",
    "    print(tok.lemma_, tok.pos_, tok.text)"
   ]
  },
  {
   "cell_type": "code",
   "execution_count": 17,
   "id": "12dfad65",
   "metadata": {},
   "outputs": [],
   "source": [
    "def lemmas_filtered_on_pos(tokens, pos_list=[\"VERB\", \"NOUN\", \"ADJ\", \"ADV\"]):\n",
    "    return \" \".join([t.lemma_ for t in tokens if t.pos_ in pos_list])"
   ]
  },
  {
   "cell_type": "code",
   "execution_count": 18,
   "id": "a6f35df5",
   "metadata": {},
   "outputs": [],
   "source": [
    "df_reviews[\"review_clean\"] = df_reviews.token_spacy.map(lemmas_filtered_on_pos)"
   ]
  },
  {
   "cell_type": "code",
   "execution_count": 19,
   "id": "3d71244d",
   "metadata": {
    "tags": []
   },
   "outputs": [
    {
     "name": "stdout",
     "output_type": "stream",
     "text": [
      "J’ PRON\n",
      "ai AUX\n",
      "pas ADV\n",
      "l’ DET\n",
      "habitude NOUN\n",
      "de ADP\n",
      "porter VERB\n",
      "ce DET\n",
      "type NOUN\n",
      "de ADP\n",
      "culotte NOUN\n",
      "mais CCONJ\n",
      "super VERB\n",
      "à ADP\n",
      "l’ DET\n",
      "aise NOUN\n",
      "dedans PROPN\n",
      ", PUNCT\n",
      "merci NOUN\n",
      ". PUNCT\n"
     ]
    }
   ],
   "source": [
    "tokens_ = df_reviews[df_reviews.review.str.contains(\"pas\")].token_spacy.iloc[0]\n",
    "\n",
    "\n",
    "for x in tokens_:\n",
    "    print(x.text, x.pos_)"
   ]
  },
  {
   "cell_type": "markdown",
   "id": "f0889a4f",
   "metadata": {
    "tags": []
   },
   "source": [
    "````\n",
    "REMPLACEMENT DES 'NOTES' 5 ET 4 PAR \"1\" ET 3,2,1 PAR \"0\" \n",
    "````"
   ]
  },
  {
   "cell_type": "markdown",
   "id": "be62c685-51fc-4c34-b4a4-dcf9d5360406",
   "metadata": {
    "tags": []
   },
   "source": [
    "df_reviews[\"new_rating\"] = (df_reviews[\"rating\"] >=4)*1   # *1 pour passer du True et False à 0 et 1\n",
    "df_reviews"
   ]
  },
  {
   "cell_type": "code",
   "execution_count": 20,
   "id": "739f30e5",
   "metadata": {},
   "outputs": [],
   "source": [
    "df_reviews.to_pickle('df_reviews_lemmatiz_filtre.plk')"
   ]
  },
  {
   "cell_type": "code",
   "execution_count": null,
   "id": "39501ca1",
   "metadata": {},
   "outputs": [],
   "source": []
  }
 ],
 "metadata": {
  "kernelspec": {
   "display_name": "Python 3 (ipykernel)",
   "language": "python",
   "name": "python3"
  },
  "language_info": {
   "codemirror_mode": {
    "name": "ipython",
    "version": 3
   },
   "file_extension": ".py",
   "mimetype": "text/x-python",
   "name": "python",
   "nbconvert_exporter": "python",
   "pygments_lexer": "ipython3",
   "version": "3.9.7"
  }
 },
 "nbformat": 4,
 "nbformat_minor": 5
}
