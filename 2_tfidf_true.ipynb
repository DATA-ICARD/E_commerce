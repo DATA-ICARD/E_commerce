{
 "cells": [
  {
   "cell_type": "code",
   "execution_count": 1,
   "metadata": {},
   "outputs": [],
   "source": [
    "from sklearn.feature_extraction.text import TfidfVectorizer\n",
    "import pandas as pd"
   ]
  },
  {
   "cell_type": "code",
   "execution_count": 2,
   "metadata": {},
   "outputs": [],
   "source": [
    "fn = \"df_reviews_lemmatiz_filtre.plk\""
   ]
  },
  {
   "cell_type": "code",
   "execution_count": 3,
   "metadata": {},
   "outputs": [],
   "source": [
    "df = pd.read_pickle(fn)"
   ]
  },
  {
   "cell_type": "code",
   "execution_count": 4,
   "metadata": {},
   "outputs": [
    {
     "data": {
      "text/html": [
       "<div>\n",
       "<style scoped>\n",
       "    .dataframe tbody tr th:only-of-type {\n",
       "        vertical-align: middle;\n",
       "    }\n",
       "\n",
       "    .dataframe tbody tr th {\n",
       "        vertical-align: top;\n",
       "    }\n",
       "\n",
       "    .dataframe thead th {\n",
       "        text-align: right;\n",
       "    }\n",
       "</style>\n",
       "<table border=\"1\" class=\"dataframe\">\n",
       "  <thead>\n",
       "    <tr style=\"text-align: right;\">\n",
       "      <th></th>\n",
       "      <th>rating</th>\n",
       "      <th>review</th>\n",
       "      <th>date</th>\n",
       "      <th>token_spacy</th>\n",
       "      <th>review_clean</th>\n",
       "      <th>new_rating</th>\n",
       "    </tr>\n",
       "  </thead>\n",
       "  <tbody>\n",
       "    <tr>\n",
       "      <th>0</th>\n",
       "      <td>5</td>\n",
       "      <td>Ça fait quelques mois maintenant que j'ai adop...</td>\n",
       "      <td>2022-03-21T15:08:10.135Z</td>\n",
       "      <td>(Ça, fait, quelques, mois, maintenant, que, j'...</td>\n",
       "      <td>faire mois maintenant adopter mool attitud ne ...</td>\n",
       "      <td>1</td>\n",
       "    </tr>\n",
       "    <tr>\n",
       "      <th>1</th>\n",
       "      <td>5</td>\n",
       "      <td>Livraison raide et super produit\\nJe recommand...</td>\n",
       "      <td>2022-03-17T16:40:08.953Z</td>\n",
       "      <td>(Livraison, raide, et, super, produit, \\n, Je,...</td>\n",
       "      <td>livraison raide super produit recommande forte...</td>\n",
       "      <td>1</td>\n",
       "    </tr>\n",
       "    <tr>\n",
       "      <th>2</th>\n",
       "      <td>4</td>\n",
       "      <td>Je ne les ai pas encore essayé, il me reste en...</td>\n",
       "      <td>2022-03-15T12:27:46.550Z</td>\n",
       "      <td>(Je, ne, les, ai, pas, encore, essayé, ,, il, ...</td>\n",
       "      <td>ne pas encore essayer reste encore jour décide...</td>\n",
       "      <td>1</td>\n",
       "    </tr>\n",
       "    <tr>\n",
       "      <th>3</th>\n",
       "      <td>4</td>\n",
       "      <td>Culotte agréable elle est top</td>\n",
       "      <td>2022-03-10T21:14:37.402Z</td>\n",
       "      <td>(Culotte, agréable, elle, est, top)</td>\n",
       "      <td>culotte agréable top</td>\n",
       "      <td>1</td>\n",
       "    </tr>\n",
       "    <tr>\n",
       "      <th>4</th>\n",
       "      <td>4</td>\n",
       "      <td>Arrivé très rapidement et joli packaging, le t...</td>\n",
       "      <td>2022-03-08T17:25:29.205Z</td>\n",
       "      <td>(Arrivé, très, rapidement, et, joli, packaging...</td>\n",
       "      <td>arriver très rapidement joli tanga très pas ef...</td>\n",
       "      <td>1</td>\n",
       "    </tr>\n",
       "  </tbody>\n",
       "</table>\n",
       "</div>"
      ],
      "text/plain": [
       "   rating                                             review  \\\n",
       "0       5  Ça fait quelques mois maintenant que j'ai adop...   \n",
       "1       5  Livraison raide et super produit\\nJe recommand...   \n",
       "2       4  Je ne les ai pas encore essayé, il me reste en...   \n",
       "3       4                     Culotte agréable elle est top    \n",
       "4       4  Arrivé très rapidement et joli packaging, le t...   \n",
       "\n",
       "                       date  \\\n",
       "0  2022-03-21T15:08:10.135Z   \n",
       "1  2022-03-17T16:40:08.953Z   \n",
       "2  2022-03-15T12:27:46.550Z   \n",
       "3  2022-03-10T21:14:37.402Z   \n",
       "4  2022-03-08T17:25:29.205Z   \n",
       "\n",
       "                                         token_spacy  \\\n",
       "0  (Ça, fait, quelques, mois, maintenant, que, j'...   \n",
       "1  (Livraison, raide, et, super, produit, \\n, Je,...   \n",
       "2  (Je, ne, les, ai, pas, encore, essayé, ,, il, ...   \n",
       "3                (Culotte, agréable, elle, est, top)   \n",
       "4  (Arrivé, très, rapidement, et, joli, packaging...   \n",
       "\n",
       "                                        review_clean  new_rating  \n",
       "0  faire mois maintenant adopter mool attitud ne ...           1  \n",
       "1  livraison raide super produit recommande forte...           1  \n",
       "2  ne pas encore essayer reste encore jour décide...           1  \n",
       "3                               culotte agréable top           1  \n",
       "4  arriver très rapidement joli tanga très pas ef...           1  "
      ]
     },
     "execution_count": 4,
     "metadata": {},
     "output_type": "execute_result"
    }
   ],
   "source": [
    "df.head()"
   ]
  },
  {
   "cell_type": "code",
   "execution_count": 5,
   "metadata": {},
   "outputs": [
    {
     "name": "stdout",
     "output_type": "stream",
     "text": [
      "31 terms\n"
     ]
    }
   ],
   "source": [
    "tfidf = TfidfVectorizer(\n",
    "    max_df=0.9, \n",
    "    min_df=0.07, \n",
    "    ngram_range=(1, 2),\n",
    "    binary=True\n",
    ")\n",
    "\n",
    "X_tfidf = tfidf.fit_transform(df.review_clean)\n",
    "X_tfidf = pd.DataFrame(X_tfidf.todense(), index= df.index, columns = tfidf.get_feature_names())\n",
    "print(X_tfidf.shape[1], \"terms\")\n",
    "\n",
    "words_tfidf_mean = X_tfidf.mean(axis=0).sort_values(ascending=False)"
   ]
  },
  {
   "cell_type": "code",
   "execution_count": 6,
   "metadata": {},
   "outputs": [
    {
     "data": {
      "text/plain": [
       "culotte             0.124732\n",
       "très                0.123064\n",
       "pas                 0.103859\n",
       "confortable         0.093458\n",
       "bien                0.076717\n",
       "avoir               0.073846\n",
       "taille              0.070225\n",
       "recevoir            0.064581\n",
       "ne                  0.061607\n",
       "recommande          0.056825\n",
       "plus                0.056742\n",
       "agréable            0.056094\n",
       "parfait             0.055505\n",
       "joli                0.053872\n",
       "fuite               0.053069\n",
       "porter              0.049184\n",
       "bon                 0.045927\n",
       "qualité             0.045248\n",
       "merci               0.044779\n",
       "premier             0.043903\n",
       "règle               0.043651\n",
       "tester              0.043567\n",
       "petit               0.041487\n",
       "super               0.041026\n",
       "vraiment            0.040310\n",
       "flux                0.040223\n",
       "très confortable    0.038545\n",
       "peu                 0.037790\n",
       "tout                0.037266\n",
       "agréable porter     0.035798\n",
       "faire               0.034784\n",
       "dtype: float64"
      ]
     },
     "execution_count": 6,
     "metadata": {},
     "output_type": "execute_result"
    }
   ],
   "source": [
    "words_tfidf_mean"
   ]
  },
  {
   "cell_type": "code",
   "execution_count": 7,
   "metadata": {},
   "outputs": [],
   "source": [
    "X_tfidf.to_pickle('tfidf_binary_true.plk')"
   ]
  },
  {
   "cell_type": "code",
   "execution_count": null,
   "metadata": {},
   "outputs": [],
   "source": []
  }
 ],
 "metadata": {
  "kernelspec": {
   "display_name": "Python 3",
   "language": "python",
   "name": "python3"
  },
  "language_info": {
   "codemirror_mode": {
    "name": "ipython",
    "version": 3
   },
   "file_extension": ".py",
   "mimetype": "text/x-python",
   "name": "python",
   "nbconvert_exporter": "python",
   "pygments_lexer": "ipython3",
   "version": "3.8.5"
  }
 },
 "nbformat": 4,
 "nbformat_minor": 4
}
